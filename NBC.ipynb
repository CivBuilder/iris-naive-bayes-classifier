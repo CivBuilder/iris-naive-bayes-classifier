{
 "cells": [
  {
   "cell_type": "code",
   "execution_count": 590,
   "id": "65b8eddc",
   "metadata": {},
   "outputs": [],
   "source": [
    "import numpy as np"
   ]
  },
  {
   "cell_type": "code",
   "execution_count": 591,
   "id": "f8326ec6",
   "metadata": {},
   "outputs": [],
   "source": [
    "from sklearn import metrics"
   ]
  },
  {
   "cell_type": "code",
   "execution_count": 592,
   "id": "92cb2a16",
   "metadata": {},
   "outputs": [],
   "source": [
    "from sklearn.model_selection import train_test_split"
   ]
  },
  {
   "cell_type": "code",
   "execution_count": 593,
   "id": "e4c4791b",
   "metadata": {},
   "outputs": [],
   "source": [
    "from sklearn.metrics import precision_score, recall_score, f1_score, accuracy_score, log_loss"
   ]
  },
  {
   "cell_type": "code",
   "execution_count": 594,
   "id": "86382156",
   "metadata": {},
   "outputs": [],
   "source": [
    "from sklearn.naive_bayes import GaussianNB"
   ]
  },
  {
   "cell_type": "code",
   "execution_count": 595,
   "id": "91a15cf4",
   "metadata": {},
   "outputs": [],
   "source": [
    "X = np.array([\n",
    "[7.0,3.2,4.7,1.4],\n",
    "[6.4,3.2,4.5,1.5],\n",
    "[6.9,3.1,4.9,1.5],\n",
    "[5.5,2.3,4.0,1.3],\n",
    "[6.5,2.8,4.6,1.5],\n",
    "[5.7,2.8,4.5,1.3],\n",
    "[6.3,3.3,4.7,1.6],\n",
    "[4.9,2.4,3.3,1.0],\n",
    "[6.6,2.9,4.6,1.3],\n",
    "[5.2,2.7,3.9,1.4],\n",
    "[5.0,2.0,3.5,1.0],\n",
    "[5.9,3.0,4.2,1.5],\n",
    "[6.0,2.2,4.0,1.0],\n",
    "[6.1,2.9,4.7,1.4],\n",
    "[5.6,2.9,3.6,1.3],\n",
    "[6.7,3.1,4.4,1.4],\n",
    "[5.6,3.0,4.5,1.5],\n",
    "[5.8,2.7,4.1,1.0],\n",
    "[6.2,2.2,4.5,1.5],\n",
    "[5.6,2.5,3.9,1.1],\n",
    "[5.9,3.2,4.8,1.8],\n",
    "[6.1,2.8,4.0,1.3],\n",
    "[6.3,2.5,4.9,1.5],\n",
    "[6.1,2.8,4.7,1.2],\n",
    "[6.4,2.9,4.3,1.3],\n",
    "[6.6,3.0,4.4,1.4],\n",
    "[6.8,2.8,4.8,1.4],\n",
    "[6.7,3.0,5.0,1.7],\n",
    "[6.0,2.9,4.5,1.5],\n",
    "[5.7,2.6,3.5,1.0],\n",
    "[5.5,2.4,3.8,1.1],\n",
    "[5.5,2.4,3.7,1.0],\n",
    "[5.8,2.7,3.9,1.2],\n",
    "[6.0,2.7,5.1,1.6],\n",
    "[5.4,3.0,4.5,1.5],\n",
    "[6.0,3.4,4.5,1.6],\n",
    "[6.7,3.1,4.7,1.5],\n",
    "[6.3,2.3,4.4,1.3],\n",
    "[5.6,3.0,4.1,1.3],\n",
    "[5.5,2.5,4.0,1.3],\n",
    "[5.5,2.6,4.4,1.2],\n",
    "[6.1,3.0,4.6,1.4],\n",
    "[5.8,2.6,4.0,1.2],\n",
    "[5.0,2.3,3.3,1.0],\n",
    "[5.6,2.7,4.2,1.3],\n",
    "[5.7,3.0,4.2,1.2],\n",
    "[5.7,2.9,4.2,1.3],\n",
    "[6.2,2.9,4.3,1.3],\n",
    "[5.1,2.5,3.0,1.1],\n",
    "[5.7,2.8,4.1,1.3],\n",
    "[6.3,3.3,6.0,2.5],\n",
    "[5.8,2.7,5.1,1.9],\n",
    "[7.1,3.0,5.9,2.1],\n",
    "[6.3,2.9,5.6,1.8],\n",
    "[6.5,3.0,5.8,2.2],\n",
    "[7.6,3.0,6.6,2.1],\n",
    "[4.9,2.5,4.5,1.7],\n",
    "[7.3,2.9,6.3,1.8],\n",
    "[6.7,2.5,5.8,1.8],\n",
    "[7.2,3.6,6.1,2.5],\n",
    "[6.5,3.2,5.1,2.0],\n",
    "[6.4,2.7,5.3,1.9],\n",
    "[6.8,3.0,5.5,2.1],\n",
    "[5.7,2.5,5.0,2.0],\n",
    "[5.8,2.8,5.1,2.4],\n",
    "[6.4,3.2,5.3,2.3],\n",
    "[6.5,3.0,5.5,1.8],\n",
    "[7.7,3.8,6.7,2.2],\n",
    "[7.7,2.6,6.9,2.3],\n",
    "[6.0,2.2,5.0,1.5],\n",
    "[6.9,3.2,5.7,2.3],\n",
    "[5.6,2.8,4.9,2.0],\n",
    "[7.7,2.8,6.7,2.0],\n",
    "[6.3,2.7,4.9,1.8],\n",
    "[6.7,3.3,5.7,2.1],\n",
    "[7.2,3.2,6.0,1.8],\n",
    "[6.2,2.8,4.8,1.8],\n",
    "[6.1,3.0,4.9,1.8],\n",
    "[6.4,2.8,5.6,2.1],\n",
    "[7.2,3.0,5.8,1.6],\n",
    "[7.4,2.8,6.1,1.9],\n",
    "[7.9,3.8,6.4,2.0],\n",
    "[6.4,2.8,5.6,2.2],\n",
    "[6.3,2.8,5.1,1.5],\n",
    "[6.1,2.6,5.6,1.4],\n",
    "[7.7,3.0,6.1,2.3],\n",
    "[6.3,3.4,5.6,2.4],\n",
    "[6.4,3.1,5.5,1.8],\n",
    "[6.0,3.0,4.8,1.8],\n",
    "[6.9,3.1,5.4,2.1],\n",
    "[6.7,3.1,5.6,2.4],\n",
    "[6.9,3.1,5.1,2.3],\n",
    "[5.8,2.7,5.1,1.9],\n",
    "[6.8,3.2,5.9,2.3],\n",
    "[6.7,3.3,5.7,2.5],\n",
    "[6.7,3.0,5.2,2.3],\n",
    "[6.3,2.5,5.0,1.9],\n",
    "[6.5,3.0,5.2,2.0],\n",
    "[6.2,3.4,5.4,2.3],\n",
    "[5.9,3.0,5.1,1.8]])"
   ]
  },
  {
   "cell_type": "code",
   "execution_count": 596,
   "id": "b4819736",
   "metadata": {},
   "outputs": [],
   "source": [
    "Y = np.array([1,1,1,1,1,1,1,1,1,1,\n",
    "             1,1,1,1,1,1,1,1,1,1,\n",
    "             1,1,1,1,1,1,1,1,1,1,\n",
    "             1,1,1,1,1,1,1,1,1,1,\n",
    "             1,1,1,1,1,1,1,1,1,1,\n",
    "             0,0,0,0,0,0,0,0,0,0,\n",
    "             0,0,0,0,0,0,0,0,0,0,\n",
    "             0,0,0,0,0,0,0,0,0,0,\n",
    "             0,0,0,0,0,0,0,0,0,0,\n",
    "             0,0,0,0,0,0,0,0,0,0])\n"
   ]
  },
  {
   "cell_type": "code",
   "execution_count": 597,
   "id": "7542ff00",
   "metadata": {},
   "outputs": [],
   "source": [
    "clf = GaussianNB()"
   ]
  },
  {
   "cell_type": "code",
   "execution_count": 598,
   "id": "358ea04c",
   "metadata": {},
   "outputs": [
    {
     "data": {
      "text/plain": [
       "GaussianNB()"
      ]
     },
     "execution_count": 598,
     "metadata": {},
     "output_type": "execute_result"
    }
   ],
   "source": [
    "clf.fit(X, Y)"
   ]
  },
  {
   "cell_type": "code",
   "execution_count": 599,
   "id": "a321fc29",
   "metadata": {},
   "outputs": [],
   "source": [
    "X_train, X_test, Y_train, Y_test = train_test_split(X, Y, test_size=0.20)"
   ]
  },
  {
   "cell_type": "code",
   "execution_count": 600,
   "id": "2e558035",
   "metadata": {
    "scrolled": true
   },
   "outputs": [
    {
     "data": {
      "text/plain": [
       "GaussianNB()"
      ]
     },
     "execution_count": 600,
     "metadata": {},
     "output_type": "execute_result"
    }
   ],
   "source": [
    "clf.fit(X_train, Y_train)"
   ]
  },
  {
   "cell_type": "code",
   "execution_count": 601,
   "id": "5d23eff0",
   "metadata": {},
   "outputs": [],
   "source": [
    "y_pred_train = clf.predict(X_train)"
   ]
  },
  {
   "cell_type": "code",
   "execution_count": 602,
   "id": "45a98406",
   "metadata": {},
   "outputs": [
    {
     "data": {
      "text/plain": [
       "array([0, 0, 0, 0, 0, 1, 1, 1, 1, 1, 1, 0, 1, 1, 1, 1, 0, 1, 0, 1, 1, 1,\n",
       "       0, 1, 0, 1, 1, 1, 1, 1, 1, 1, 0, 0, 1, 0, 1, 1, 1, 0, 1, 0, 0, 1,\n",
       "       0, 0, 0, 0, 0, 0, 1, 0, 0, 1, 1, 0, 0, 1, 1, 0, 0, 0, 0, 1, 1, 0,\n",
       "       1, 1, 0, 1, 0, 0, 0, 1, 1, 0, 0, 0, 1, 0])"
      ]
     },
     "execution_count": 602,
     "metadata": {},
     "output_type": "execute_result"
    }
   ],
   "source": [
    "y_pred_train"
   ]
  },
  {
   "cell_type": "code",
   "execution_count": 603,
   "id": "be888536",
   "metadata": {},
   "outputs": [
    {
     "data": {
      "text/plain": [
       "array([0, 0, 1, 0, 0, 1, 1, 1, 1, 1, 1, 0, 1, 1, 1, 1, 1, 1, 0, 1, 1, 1,\n",
       "       0, 1, 0, 1, 1, 1, 1, 1, 1, 0, 0, 0, 1, 0, 1, 1, 1, 0, 1, 0, 0, 1,\n",
       "       0, 0, 0, 0, 0, 0, 1, 0, 0, 1, 1, 0, 0, 1, 1, 0, 0, 0, 0, 1, 1, 0,\n",
       "       1, 1, 0, 1, 0, 0, 0, 0, 1, 0, 0, 0, 1, 0])"
      ]
     },
     "execution_count": 603,
     "metadata": {},
     "output_type": "execute_result"
    }
   ],
   "source": [
    "Y_train"
   ]
  },
  {
   "cell_type": "code",
   "execution_count": 604,
   "id": "36f698af",
   "metadata": {},
   "outputs": [],
   "source": [
    "x_prob_train = clf.predict_proba(X_train)"
   ]
  },
  {
   "cell_type": "code",
   "execution_count": 605,
   "id": "2e8cb64d",
   "metadata": {},
   "outputs": [],
   "source": [
    "x_prob_test = clf.predict_proba(X_test)"
   ]
  },
  {
   "cell_type": "code",
   "execution_count": 606,
   "id": "7f44f492",
   "metadata": {},
   "outputs": [],
   "source": [
    "confusion_train = metrics.confusion_matrix(Y_train, y_pred_train)"
   ]
  },
  {
   "cell_type": "code",
   "execution_count": 607,
   "id": "8d630c4f",
   "metadata": {},
   "outputs": [
    {
     "name": "stdout",
     "output_type": "stream",
     "text": [
      "[[37  2]\n",
      " [ 2 39]]\n"
     ]
    }
   ],
   "source": [
    "print(confusion_train)"
   ]
  },
  {
   "cell_type": "code",
   "execution_count": 608,
   "id": "b6decb7e",
   "metadata": {},
   "outputs": [],
   "source": [
    "tn = confusion_train[0,0]\n",
    "fp = confusion_train[0,1]\n",
    "specificity_train = tn/(fp+tn)"
   ]
  },
  {
   "cell_type": "code",
   "execution_count": 609,
   "id": "213eae20",
   "metadata": {},
   "outputs": [
    {
     "name": "stdout",
     "output_type": "stream",
     "text": [
      "Accuracy:  0.95\n",
      "Sensitivity :  0.9512195121951219\n",
      "Precision:  0.9512195121951219\n",
      "F1:  0.9512195121951219\n",
      "Log loss:  0.14224008621387355\n",
      "Specificity:  0.9487179487179487\n"
     ]
    }
   ],
   "source": [
    "print(\"Accuracy: \",accuracy_score(Y_train, y_pred_train))\n",
    "print(\"Sensitivity : \",recall_score(Y_train, y_pred_train))\n",
    "print(\"Precision: \",precision_score(Y_train, y_pred_train))\n",
    "print(\"F1: \",f1_score(Y_train, y_pred_train))\n",
    "print(\"Log loss: \",log_loss(Y_train, x_prob_train))\n",
    "print(\"Specificity: \", specificity_train)"
   ]
  },
  {
   "cell_type": "code",
   "execution_count": 610,
   "id": "f0a4e596",
   "metadata": {},
   "outputs": [],
   "source": [
    "y_pred_test = clf.predict(X_test)"
   ]
  },
  {
   "cell_type": "code",
   "execution_count": 611,
   "id": "2917a673",
   "metadata": {},
   "outputs": [
    {
     "data": {
      "text/plain": [
       "array([1, 0, 1, 0, 0, 0, 1, 1, 0, 0, 0, 1, 1, 0, 1, 1, 1, 1, 0, 1])"
      ]
     },
     "execution_count": 611,
     "metadata": {},
     "output_type": "execute_result"
    }
   ],
   "source": [
    "y_pred_test"
   ]
  },
  {
   "cell_type": "code",
   "execution_count": 612,
   "id": "82a44a23",
   "metadata": {},
   "outputs": [
    {
     "data": {
      "text/plain": [
       "array([0, 0, 1, 0, 0, 0, 1, 1, 0, 0, 0, 1, 1, 0, 1, 1, 1, 1, 0, 0])"
      ]
     },
     "execution_count": 612,
     "metadata": {},
     "output_type": "execute_result"
    }
   ],
   "source": [
    "Y_test"
   ]
  },
  {
   "cell_type": "code",
   "execution_count": 613,
   "id": "7ca9906e",
   "metadata": {},
   "outputs": [],
   "source": [
    "confusion_test = metrics.confusion_matrix(Y_test, y_pred_test)"
   ]
  },
  {
   "cell_type": "code",
   "execution_count": 614,
   "id": "3bfff817",
   "metadata": {},
   "outputs": [
    {
     "name": "stdout",
     "output_type": "stream",
     "text": [
      "[[9 2]\n",
      " [0 9]]\n"
     ]
    }
   ],
   "source": [
    "print(confusion_test)"
   ]
  },
  {
   "cell_type": "code",
   "execution_count": 615,
   "id": "92b55e75",
   "metadata": {},
   "outputs": [],
   "source": [
    "tn = confusion_test[0,0]\n",
    "fp = confusion_test[0,1]\n",
    "specificity_test = tn/(fp+tn)"
   ]
  },
  {
   "cell_type": "code",
   "execution_count": 616,
   "id": "bfe88ba3",
   "metadata": {
    "scrolled": true
   },
   "outputs": [
    {
     "name": "stdout",
     "output_type": "stream",
     "text": [
      "Accuracy:  0.9\n",
      "Sensitivity :  1.0\n",
      "Precision:  0.8181818181818182\n",
      "F1:  0.9\n",
      "Log loss:  0.2727892766964816\n",
      "Specificity:  0.8181818181818182\n"
     ]
    }
   ],
   "source": [
    "print(\"Accuracy: \",accuracy_score(Y_test, y_pred_test))\n",
    "print(\"Sensitivity : \",recall_score(Y_test, y_pred_test))\n",
    "print(\"Precision: \",precision_score(Y_test, y_pred_test))\n",
    "print(\"F1: \",f1_score(Y_test, y_pred_test))\n",
    "print(\"Log loss: \",log_loss(Y_test, x_prob_test))\n",
    "print(\"Specificity: \", specificity_test)"
   ]
  },
  {
   "cell_type": "code",
   "execution_count": null,
   "id": "2ab09fb7",
   "metadata": {},
   "outputs": [],
   "source": []
  }
 ],
 "metadata": {
  "kernelspec": {
   "display_name": "Python 3 (ipykernel)",
   "language": "python",
   "name": "python3"
  },
  "language_info": {
   "codemirror_mode": {
    "name": "ipython",
    "version": 3
   },
   "file_extension": ".py",
   "mimetype": "text/x-python",
   "name": "python",
   "nbconvert_exporter": "python",
   "pygments_lexer": "ipython3",
   "version": "3.9.13"
  }
 },
 "nbformat": 4,
 "nbformat_minor": 5
}
